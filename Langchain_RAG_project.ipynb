{
  "nbformat": 4,
  "nbformat_minor": 0,
  "metadata": {
    "colab": {
      "provenance": [],
      "authorship_tag": "ABX9TyPXGrkc11AwB1ZUv/wBas1+",
      "include_colab_link": true
    },
    "kernelspec": {
      "name": "python3",
      "display_name": "Python 3"
    },
    "language_info": {
      "name": "python"
    }
  },
  "cells": [
    {
      "cell_type": "markdown",
      "metadata": {
        "id": "view-in-github",
        "colab_type": "text"
      },
      "source": [
        "<a href=\"https://colab.research.google.com/github/muneeb-kk/Projects/blob/main/Langchain_RAG_project.ipynb\" target=\"_parent\"><img src=\"https://colab.research.google.com/assets/colab-badge.svg\" alt=\"Open In Colab\"/></a>"
      ]
    },
    {
      "cell_type": "code",
      "execution_count": 3,
      "metadata": {
        "id": "u1_CzYapc1ix"
      },
      "outputs": [],
      "source": [
        "%pip install --upgrade --quiet langchain-google-genai langchain-pinecone\n",
        "%pip install langchain pinecone-client google-generativeai tqdm langchain_community pypdf PyPDF2 --quiet\n"
      ]
    },
    {
      "cell_type": "code",
      "source": [
        "import langchain\n",
        "import pinecone\n",
        "import google.generativeai\n",
        "from PyPDF2 import PdfReader"
      ],
      "metadata": {
        "id": "Dhd62apadezQ"
      },
      "execution_count": 4,
      "outputs": []
    },
    {
      "cell_type": "code",
      "source": [
        "from google.colab import userdata\n",
        "from pinecone import Pinecone, ServerlessSpec\n",
        "pinecone_api_key = userdata.get('PINECONE_API_KEY')\n",
        "pc = Pinecone(api_key=pinecone_api_key)"
      ],
      "metadata": {
        "id": "BfYejVxSdj64"
      },
      "execution_count": 5,
      "outputs": []
    },
    {
      "cell_type": "code",
      "source": [
        "index_name = \"langchain-rag-project\"\n",
        "\n",
        "pc.delete_index(index_name)\n",
        "\n",
        "pc.create_index(\n",
        "\n",
        "    name=index_name,\n",
        "\n",
        "    dimension=768,\n",
        "\n",
        "    metric='cosine',\n",
        "\n",
        "    spec  = ServerlessSpec(cloud=\"aws\",region=\"us-east-1\"),\n",
        "\n",
        ")\n",
        "\n",
        "\n",
        "\n",
        "index = pc.Index(index_name)"
      ],
      "metadata": {
        "id": "mcteqzNRd2HD"
      },
      "execution_count": 6,
      "outputs": []
    },
    {
      "cell_type": "code",
      "source": [
        "from langchain_google_genai import GoogleGenerativeAIEmbeddings\n",
        "import os\n",
        "gen_ai_key = userdata.get('GOOGLE_API_KEY')\n",
        "\n",
        "embeddings = GoogleGenerativeAIEmbeddings(model=\"models/embedding-001\", google_api_key= gen_ai_key)"
      ],
      "metadata": {
        "id": "rc3AtCeheCLy"
      },
      "execution_count": 7,
      "outputs": []
    },
    {
      "cell_type": "code",
      "source": [
        "from langchain.document_loaders import PyPDFLoader\n",
        "import os\n",
        "from langchain_community.document_loaders import PyPDFium2Loader\n",
        "\n",
        "def load_pdf(file_path):\n",
        "    try:\n",
        "        if not os.path.exists(file_path):\n",
        "            print(f\"Error: File not found: {file_path}\")\n",
        "            return None\n",
        "        print(f\"Trying to load using PyPDFLoader\")\n",
        "        loader = PyPDFLoader(file_path)\n",
        "        documents = loader.load()\n",
        "        return documents\n",
        "    except Exception as e:\n",
        "        print(f\"Error loading with PyPDFLoader: {e}\")\n",
        "        print(\"Trying with PyPDFium2Loader\")\n",
        "        try:\n",
        "            loader = PyPDFium2Loader(file_path)\n",
        "            documents = loader.load()\n",
        "            return documents\n",
        "        except Exception as e2:\n",
        "            print(f\"Error loading with PyPDFium2Loader: {e2}\")\n",
        "            return None\n",
        "\n",
        "file_path = \"/content/fitness_tracker.pdf\"\n",
        "documents = load_pdf(file_path)\n",
        "\n",
        "if documents:\n",
        "    print(f\"Document loaded successfully. Number of pages: {len(documents)}\")\n",
        "else:\n",
        "    print(\"Failed to load document.\")"
      ],
      "metadata": {
        "colab": {
          "base_uri": "https://localhost:8080/"
        },
        "id": "9BO65AZYeWZw",
        "outputId": "b1c95b27-aeaa-4321-bee7-60175f4ddd07"
      },
      "execution_count": 33,
      "outputs": [
        {
          "output_type": "stream",
          "name": "stdout",
          "text": [
            "Trying to load using PyPDFLoader\n",
            "Document loaded successfully. Number of pages: 38\n"
          ]
        }
      ]
    },
    {
      "cell_type": "code",
      "source": [
        "len(documents)"
      ],
      "metadata": {
        "colab": {
          "base_uri": "https://localhost:8080/"
        },
        "id": "X_wEvqk2erXu",
        "outputId": "661d3c5e-0cf6-4620-d812-ef0e32aea155"
      },
      "execution_count": 34,
      "outputs": [
        {
          "output_type": "execute_result",
          "data": {
            "text/plain": [
              "38"
            ]
          },
          "metadata": {},
          "execution_count": 34
        }
      ]
    },
    {
      "cell_type": "code",
      "source": [
        "from langchain.text_splitter import RecursiveCharacterTextSplitter\n",
        "text_splitter = RecursiveCharacterTextSplitter(chunk_size=1000, chunk_overlap=100)\n",
        "chunks = text_splitter.split_documents(documents)"
      ],
      "metadata": {
        "id": "Rf_cNYk2fNXP"
      },
      "execution_count": 43,
      "outputs": []
    },
    {
      "cell_type": "code",
      "source": [
        "from google.colab import userdata\n",
        "\n",
        "pinecone_api_key = userdata.get('PINECONE_API_KEY')\n",
        "\n"
      ],
      "metadata": {
        "id": "oFc6rkzjgN9e"
      },
      "execution_count": 44,
      "outputs": []
    },
    {
      "cell_type": "code",
      "source": [
        "from langchain_pinecone import PineconeVectorStore\n",
        "vector_store = PineconeVectorStore(\n",
        "    index=index,\n",
        "    embedding=embeddings\n",
        ")"
      ],
      "metadata": {
        "id": "_Y4ST3IOfcB9"
      },
      "execution_count": 45,
      "outputs": []
    },
    {
      "cell_type": "code",
      "source": [
        "retriever = vector_store.as_retriever(search_type=\"similarity\", search_kwargs={\"k\": 5})"
      ],
      "metadata": {
        "id": "Let0rCZahNb2"
      },
      "execution_count": 46,
      "outputs": []
    },
    {
      "cell_type": "code",
      "source": [
        "llm = ChatGoogleGenerativeAI(\n",
        "    model=\"gemini-2.0-flash-exp\",  # Specify the model here\n",
        "    api_key=gen_ai_key,  # Assuming gen_ai_key holds your API key\n",
        "    temperature=0.3,\n",
        "    max_tokens=1000\n",
        ")\n",
        "qa_chain = RetrievalQA.from_chain_type(\n",
        "    llm=llm,\n",
        "    retriever=retriever,\n",
        "    return_source_documents=True,\n",
        ")"
      ],
      "metadata": {
        "id": "HLHzRKyPiFtt"
      },
      "execution_count": 51,
      "outputs": []
    },
    {
      "cell_type": "code",
      "source": [
        "import uuid\n",
        "from uuid import uuid4\n",
        "for i, chunk in enumerate(chunks):\n",
        "\n",
        "    text_chunk = chunk.page_content if isinstance(chunk, langchain.schema.Document) else str(chunk)\n",
        "    vector = embeddings.embed_documents([text_chunk])[0]\n",
        "    index.upsert([(f\"doc-{i}\", vector, {\"text\": text_chunk})])\n"
      ],
      "metadata": {
        "id": "Euueh2NeoX2Q"
      },
      "execution_count": 52,
      "outputs": []
    },
    {
      "cell_type": "code",
      "source": [
        "query = \"Tell me about user 1?\"\n",
        "\n",
        "result = qa_chain({\"query\": query})\n",
        "\n",
        "answer = result['result']\n",
        "source_documents = result['source_documents']\n",
        "\n",
        "print(answer)\n"
      ],
      "metadata": {
        "colab": {
          "base_uri": "https://localhost:8080/"
        },
        "id": "MfM4JogEpq6W",
        "outputId": "5203424d-f60b-4d9f-a03b-40ac01f2486c"
      },
      "execution_count": 56,
      "outputs": [
        {
          "output_type": "stream",
          "name": "stdout",
          "text": [
            "User 1 has the following data: 5100, 1550, 7, Activity 1, Activity 2.\n",
            "\n"
          ]
        }
      ]
    }
  ]
}